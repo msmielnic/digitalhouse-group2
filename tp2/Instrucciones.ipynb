{
 "cells": [
  {
   "cell_type": "markdown",
   "id": "ca6f6ed6-79e9-4efc-836a-040000ce8c89",
   "metadata": {
    "tags": []
   },
   "source": [
    "# Como usar Amazon SageMaker Studio Lab para el TP2 de Digital House"
   ]
  },
  {
   "cell_type": "markdown",
   "id": "f7a6b606-a68d-43e6-bc43-598ce32032cc",
   "metadata": {},
   "source": [
    "## Usar Git para sincronizar el repositorio de GitHub con Sagemaker Studio Lab"
   ]
  },
  {
   "cell_type": "markdown",
   "id": "fd6ea658-93e2-4901-9ce5-7db00e7f9f44",
   "metadata": {},
   "source": [
    "Lo primero que haremos es **clonar** el repositorio [mstokle/digitalhouse-group2](https://github.com/stoklemariano/digitalhouse-group2) desde GitHub usando la funcionalidad integrada de Git en Sagemaker Studio Lab. Git es un sistema de control de versiones que nos permite gestionar los cambios que vayamos a hacer en los archivos que componen un proyecto de software, incluyendo notebooks, archivos de configuración, imágenes, etc. Para ello, usa una base de datos especial, llamado *repositorio*. GitHub es un servicio que permite tener un repositorio compatible con Git en la nube, de manera que distintos colaboradores pueden sincronizar sus repositorios locales Git con un repositorio central en GitHub. Al clonar, descargaremos la última copia del repositorio a nuestro repositorio local.\n",
    "\n",
    "En Sagemaker Studio Lab, nos paramos sobre la carpeta root (/) vamos al menu principal, hacemos click en el menú **Git**, y allí seleccionamos la opción **Clone Git Repository**. Allí se abrirá una ventana donde deberán ingresar la siguiente información:\n",
    "\n",
    "1. Git Repository URL: **https://github.com/stoklemariano/digitalhouse-group2.git**\n",
    "2. Project directory to clone into: **.**\n",
    "\n",
    "![Clone repo](images/clone-git-repository.jpg)\n"
   ]
  },
  {
   "cell_type": "markdown",
   "id": "044c77ed-234f-4766-b4e7-d697aa1922d9",
   "metadata": {},
   "source": [
    "Una vez terminado, se deberia haber creado una carpeta llamada **digitalhouse-group2** y dentro, dos sub carpetas: **tp1** y **tp2**. \n",
    "Al haber dejado seleccionada el *tickbox* \"Search for environment.yml and build Conda environment, se ejecutará este archivo yaml que tiene las instrucciones para instalar los paquetes necesarios para correr los notebooks, incluyendo numpy, pandas, y scikitlearn. En caso de no haber seleccionado el tickbox, se puede construir el ambiente parandose sobre el archivo *environment.yml* que se encuantra en la carpeta raíz del repositorio, apretando el botón derecho y seleccionado la opción *Build conda environment*.\n",
    "Cuando se abra la primera notebook, se podrá elegir el kernel **dhds2021-tp2-gp2**."
   ]
  },
  {
   "cell_type": "markdown",
   "id": "64b5e9bd-abca-4f7f-9a92-889edf4a218d",
   "metadata": {},
   "source": [
    "## Subiendo el Dataset a Sagemaker Studio Lab"
   ]
  },
  {
   "cell_type": "markdown",
   "id": "d24aa6e0-8b62-412a-a318-f89d71a51bbd",
   "metadata": {},
   "source": [
    "Para subir el dataset a Sagemaker, debido a que por tamaño no se puede incluir facilmente en el repositorio de GitHub, crearemos una carpeta Data en la carpeta raíz del ambiente. Hacemos doble click sobre la carpeta y una vez allí, podemos hacer click sobre el botón *Upload files*. \n",
    "\n",
    "![Upload files](images/upload-files-option.jpg)"
   ]
  },
  {
   "cell_type": "markdown",
   "id": "65a34fd6-c902-442a-982f-9721f3855d36",
   "metadata": {
    "tags": []
   },
   "source": [
    "## Actualizar cambios locales en el repositorio de GitHub"
   ]
  },
  {
   "cell_type": "markdown",
   "id": "45bfc279-5fbf-4337-ae47-27ba8800ace8",
   "metadata": {},
   "source": [
    "Una vez comenzado a trabajar sobre los notebooks y otros archivos que se necesiten trabajar hay que realizar algunas tareas que les permitan hacer *push* de los cambios:\n",
    "\n",
    "1. Dar permisos en el repositorio en GitHub\n",
    "2. Generar un Personal Access Token en GitHub\n",
    "3. Configurar git para usar el Personal Access Token"
   ]
  },
  {
   "cell_type": "markdown",
   "id": "3c9dc584-12c6-488f-9bcc-d67b4c61931f",
   "metadata": {},
   "source": [
    "### Dar permisos en el repositorio en GitHub\n",
    "\n",
    "En este paso simplemente el dueño del repositorio de GitHub da de alta a los usuarios para que puedan tener acceso al repo."
   ]
  },
  {
   "cell_type": "markdown",
   "id": "8940e135-cebe-406f-8a06-5e4e80b1f29d",
   "metadata": {
    "tags": []
   },
   "source": [
    "### Generar un Personal Access Token en GitHub\n",
    "\n",
    "Cada usuario debe ir a la pagina de GitHub, hacer click en el icono de usuario en la esquina superior derecha, hacer click en **Settings**, buscar en la barra de opciones izquierda **Developer Settings** y allí seleccionar **Personal Access Tokens**. \n",
    "\n",
    "Allí hacer click sobre el botón **Generate new token** y completar *Note* con un nombre para recordar luego para que se generó dicho token, la expiración del mismo y los permisos (seleccionar todos los permisos de *repo*. Hacer click en el botón \"Generate token\" y guardar en un lugar seguro el token generado ya que no se puede consultar y por lo tanto si se pierde, habrá que generar uno nuevo.\n"
   ]
  },
  {
   "cell_type": "markdown",
   "id": "aae9a8f5-fc86-43a3-b7b4-8ced91a1a172",
   "metadata": {},
   "source": [
    "### Configurar git para usar el Personal Access Token\n",
    "\n",
    "Abrir el **Terminal** (se puede hacer desde el launcher que se invoca con el botón **+** o desde el menu **File**, elegir la opción **New** y elegir **Terminal**.\n",
    "\n",
    "    cd ~/digitalhouse-group2\n",
    "\n",
    "    git config --global user.name \"<introdducir su usuario de GitHub aquí>\"\n",
    "    git config --global user.email \"<introducir su email aquí>\"\n",
    "    git config -l\n",
    "\n",
    "    git push\n",
    "    Password: <inrroducir el Personal Access Token>\n",
    "    \n",
    "    git config --global credential.helper cache\n",
    "\n",
    "Una vez hecho esto, ya no neceitaremos introducir el token cada vez que hagamos un push.\n"
   ]
  },
  {
   "cell_type": "markdown",
   "id": "5c4f2ca5-7239-4ea6-822a-896896082d3f",
   "metadata": {},
   "source": [
    "## Installing Python packages"
   ]
  },
  {
   "cell_type": "markdown",
   "id": "a7bd626a-45dd-4778-87e3-729c3b5d9953",
   "metadata": {},
   "source": [
    "The simplest way of installing Python packages is to use either of the following magic commands in a code cell of a notebook:\n",
    "\n",
    "`%conda install <package>`\n",
    "\n",
    "`%pip install <package>`\n",
    "\n",
    "These magic commands will always install packages into the environment used by that notebook and any packages you install are saved in your persistent project directory. Note: we don't recommend using `!pip` or `!conda` as those can behave in unexpected ways when you have multiple environments.\n",
    "\n",
    "Here is an example that shows how to install NumPy into the environment used by this notebook:"
   ]
  },
  {
   "cell_type": "code",
   "execution_count": 1,
   "id": "deef862e-c4d4-494a-9736-494aaaafb981",
   "metadata": {},
   "outputs": [
    {
     "name": "stdout",
     "output_type": "stream",
     "text": [
      "Collecting package metadata (current_repodata.json): done\n",
      "Solving environment: done\n",
      "\n",
      "\n",
      "==> WARNING: A newer version of conda exists. <==\n",
      "  current version: 4.10.3\n",
      "  latest version: 4.11.0\n",
      "\n",
      "Please update conda by running\n",
      "\n",
      "    $ conda update -n base conda\n",
      "\n",
      "\n",
      "\n",
      "# All requested packages already installed.\n",
      "\n",
      "\n",
      "Note: you may need to restart the kernel to use updated packages.\n"
     ]
    }
   ],
   "source": [
    "%conda install numpy"
   ]
  },
  {
   "cell_type": "markdown",
   "id": "68523e64-73a1-4193-8b52-259921400437",
   "metadata": {},
   "source": [
    "Now you can use NumPy:"
   ]
  },
  {
   "cell_type": "code",
   "execution_count": 3,
   "id": "d4086851-d2ed-4def-99a3-31f1ceee71df",
   "metadata": {},
   "outputs": [
    {
     "data": {
      "text/plain": [
       "array([0.57963059, 0.70327324, 0.42511913, 0.05731499, 0.53926905,\n",
       "       0.67299244, 0.61963274, 0.44308432, 0.76433359, 0.17642703])"
      ]
     },
     "execution_count": 3,
     "metadata": {},
     "output_type": "execute_result"
    }
   ],
   "source": [
    "import numpy as np\n",
    "np.random.rand(10)"
   ]
  },
  {
   "cell_type": "markdown",
   "id": "a1172abf-4034-4b49-a907-58096e29489c",
   "metadata": {},
   "source": [
    "## SageMaker Studio Lab example notebooks"
   ]
  },
  {
   "cell_type": "markdown",
   "id": "9d449e38-4dda-4f80-9639-e053efb97021",
   "metadata": {},
   "source": [
    "SageMaker Studio Lab works with familiar open-source data science and machine learning libraries, such as [NumPy](https://numpy.org/), [pandas](https://pandas.pydata.org/), [scikit-learn](https://scikit-learn.org/stable/), [PyTorch](https://pytorch.org/), and [TensorFlow](https://www.tensorflow.org/). \n",
    "\n",
    "To help you take the next steps, we have a GitHub repository with a set of example notebooks that cover a wide range of data science and machine learning topics, from importing and cleaning data to data visualization and training machine learning models.\n",
    "\n",
    "<button class=\"jp-mod-styled\" data-commandlinker-command=\"git:clone\" data-commandlinker-args=\"{&quot;URL&quot;: &quot;https://github.com/aws/studio-lab-examples.git&quot;}\">Clone SageMaker Studio Lab Example Notebooks</button>"
   ]
  },
  {
   "cell_type": "markdown",
   "id": "7dde15de-4faf-4057-b367-8153cddbe62f",
   "metadata": {},
   "source": [
    "## AWS Machine Learning University\n",
    "\n",
    "[Machine Learning University (MLU)](https://aws.amazon.com/machine-learning/mlu/) provides anybody, anywhere, at any time access to the same machine learning courses used to train Amazon’s own developers on machine learning. Learn how to use ML with the learn-at-your-own-pace MLU Accelerator learning series.\n",
    "\n",
    "<button class=\"jp-mod-styled\" data-commandlinker-command=\"git:clone\" data-commandlinker-args=\"{&quot;URL&quot;: &quot;https://github.com/aws-samples/aws-machine-learning-university-accelerated-tab.git&quot;}\">Clone MLU Notebooks</button>"
   ]
  },
  {
   "cell_type": "markdown",
   "id": "1280afd0-45db-4ff6-800e-27f99c158220",
   "metadata": {},
   "source": [
    "## Dive into Deep Learning (D2L)\n",
    "\n",
    "[Dive into Deep Learning (D2L)](https://www.d2l.ai/) is an open-source, interactive book that teaches the ideas, the mathematical theory, and the code that powers deep learning. With over 150 Jupyter notebooks, D2L provides a comprehensive overview of deep learning principles and a state-of-the-art introduction to deep learning in computer vision and natural language processing. With tens of millions of online page views, D2L has been adopted for teaching by over 300 universities from 55 countries, including Stanford, MIT, Harvard, and Cambridge.\n",
    "    \n",
    "<button class=\"jp-mod-styled\" data-commandlinker-command=\"git:clone\" data-commandlinker-args=\"{&quot;URL&quot;: &quot;https://github.com/d2l-ai/d2l-pytorch-sagemaker-studio-lab.git&quot;}\">Clone D2L Notebooks</button>"
   ]
  },
  {
   "cell_type": "markdown",
   "id": "0ffacd55-3a53-46ac-95f8-167eb45a48de",
   "metadata": {},
   "source": [
    "## Hugging Face\n",
    "\n",
    "[Hugging Face](http://huggingface.co/) is the home of the [Transformers](https://huggingface.co/transformers/) library and state-of-the-art natural language processing, speech, and computer vision models.\n",
    "\n",
    "<button class=\"jp-mod-styled\" data-commandlinker-command=\"git:clone\" data-commandlinker-args=\"{&quot;URL&quot;: &quot;https://github.com/huggingface/notebooks.git&quot;}\">Clone Hugging Face Notebooks</button>"
   ]
  },
  {
   "cell_type": "markdown",
   "id": "be3fe679-151f-4ab9-ad67-81ecb7eb99db",
   "metadata": {
    "tags": []
   },
   "source": [
    "## Switching to a GPU runtime"
   ]
  },
  {
   "cell_type": "markdown",
   "id": "e47794bb-ceb7-4bc2-9416-d45ec9401985",
   "metadata": {},
   "source": [
    "Depending on the kinds of algorithms you are using, you may want to switch to a GPU or a CPU runtime for faster computation. First, save your work and then navigate back to your project overview page to select the instance type you want. You can navigate back to your project page by selecting the **Open Project Overview Page** in the **Amazon SageMaker Studio Lab** menu. Switching the runtime will stop all your kernels, but all of your notebooks, files, and datasets will be saved in your persistent project directory.\n",
    "\n",
    "Note that a GPU runtime session is limited to 4 hours and a CPU runtime session is limited to 12 hours of continuous use."
   ]
  },
  {
   "cell_type": "markdown",
   "id": "c3fc6dff-3784-4c71-8f26-de9c0b958d89",
   "metadata": {
    "tags": []
   },
   "source": [
    "## Managing packages and Conda environments"
   ]
  },
  {
   "cell_type": "markdown",
   "id": "60d642cf-774a-4e42-b27e-70fd5555753f",
   "metadata": {
    "tags": []
   },
   "source": [
    "### Your default environment\n",
    "\n",
    "SageMaker Studio Lab uses Conda environments to encapsulate the software (Python, R, etc.) packages needed to run notebooks. Your project contains a default Conda environment, named `default`, with the [IPython kernel](https://ipython.readthedocs.io/en/stable/) and that is about it. There are a couple of ways to install additional packages into this environment.\n",
    "\n",
    "As described above, you can use the following magic commands in any notebook:\n",
    "\n",
    "`%conda install <package>`\n",
    "\n",
    "`%pip install <package>`\n",
    "\n",
    "These magic commands will always install packages into the environment used by that notebook and any packages you install are saved in your persistent project directory. Note: we don't recommend using `!pip` or `!conda` as those can behave in unexpected ways when you have multiple environments.\n",
    "\n",
    "Alternatively, you can open the Terminal and activate the environment using:\n",
    "\n",
    "`$ conda activate default`\n",
    "\n",
    "Once the environment is activated, you can install packages using the [Conda](https://docs.conda.io/en/latest/) or [pip](https://pip.pypa.io/en/stable/) command lines:\n",
    "\n",
    "`$ conda install <package>`\n",
    "\n",
    "`$ pip install <package>`\n",
    "\n",
    "The conda installation for SageMaker Studio Lab uses a default channel of [conda-forge](https://conda-forge.org/), so you don't need to add the `-c conda-forge` argument when calling `conda install`."
   ]
  },
  {
   "cell_type": "markdown",
   "id": "9c3eebd2-a3c4-4435-b76a-c73ab14220ac",
   "metadata": {},
   "source": [
    "### Creating and using new Conda environments\n",
    "\n",
    "There are a couple of ways of creating new Conda environments.\n",
    "\n",
    "**First**, you can open the Terminal and directly create a new environment using the Conda command line:\n",
    "\n",
    "`$ conda env create --name my_environment python=3.9`\n",
    "\n",
    "This example creates an new environment named `my_environment` with Python 3.9.\n",
    "\n",
    "**Alternatively**, if you have a Conda environment file, can right click on the file in the JupyterLab file browser, and select the \"Build Conda Environment\" item:\n",
    "\n",
    "![Create Environment](images/create_environment.png)\n",
    "\n",
    "To activate any Conda environment in the Terminal, run:\n",
    "\n",
    "`$ conda activate my_environment`\n",
    "\n",
    "Once you do this, any pakcages installed using Conda or pip will be installed in that environment.\n",
    "\n",
    "To use your new Conda environments with notebooks, make sure the `ipykernel` package is installed into that environment:\n",
    "\n",
    "`$ conda install ipykernel`\n",
    "\n",
    "Once installed `ipykernel`, you should see a card in the launcher for that environment and kernel after about a minute.\n",
    "\n",
    "<div class=\"alert alert-info\"> <b>Note:</b> It may take about one minute for the new environment to appear as a kernel option.</div>"
   ]
  },
  {
   "cell_type": "markdown",
   "id": "3eafe54e-db32-413d-80c5-3ee3304c0057",
   "metadata": {
    "tags": []
   },
   "source": [
    "## Installing JupyterLab and Jupyter Server extensions"
   ]
  },
  {
   "cell_type": "markdown",
   "id": "da909220-502a-44f1-bdf3-28640e0a6762",
   "metadata": {},
   "source": [
    "SageMaker Studio Lab enables you to install open-source JupyterLab and Jupyter Server extensions. These extensions are typically Python packages that can be installed using `conda` or `pip`. To install these extensions, open the Terminal and activate the `studiolab` environment:\n",
    "\n",
    "`$ conda activate studiolab`\n",
    "\n",
    "Then you can install the relevant JupyterLab or Jupyter Server extension:\n",
    "\n",
    "`$ conda install <jupyter_extension>`\n",
    "\n",
    "You will need to refresh your page to pickup any JupyterLab extensions you have installed, or power cycle your project runtime to pickup any Jupyter server extensions. "
   ]
  },
  {
   "cell_type": "markdown",
   "id": "3ccf5dc1-e639-42a4-be9b-adb312380530",
   "metadata": {
    "tags": []
   },
   "source": [
    "## Adding *Open in Studio Lab* links to your GitHub repositories"
   ]
  },
  {
   "cell_type": "markdown",
   "id": "20fed9f7-6560-4542-ad58-74622b193a12",
   "metadata": {},
   "source": [
    "If you have public GitHub repositories with Jupyter Notebooks, you can make it easy for other users to open these notebooks in SageMaker Studio Lab by adding an *Open in Studio Lab* link to a README.md or notebook. This allows anyone to quickly preview the notebook and import it into their SageMaker Studio Lab project.\n",
    "\n",
    "To add an *Open in Studio Lab* badge to your README.md file use the following markdown\n",
    "\n",
    "```\n",
    "[![Open In Studio Lab](https://studiolab.sagemaker.aws/studiolab.svg)](https://studiolab.sagemaker.aws/import/github/org/repo/blob/master/path/to/notebook.ipynb)\n",
    "```\n",
    "\n",
    "and replace `org`, `repo`, the path and the notebook filename with those for your repo. Or in HTML:\n",
    "\n",
    "```\n",
    "<a href=\"https://studiolab.sagemaker.aws/import/github/org/repo/blob/master/path/to/notebook.ipynb\">\n",
    "  <img src=\"https://studiolab.sagemaker.aws/studiolab.svg\" alt=\"Open In SageMaker Studio Lab\"/>\n",
    "</a>\n",
    "```\n",
    "\n",
    "This will creates a badge like:\n",
    "\n",
    "[![Open In SageMaker Studio Lab](https://studiolab.sagemaker.aws/studiolab.svg)](https://studiolab.sagemaker.aws/import/github/d2l-ai/d2l-pytorch-sagemaker-studio-lab/blob/161e45f1055654c547ffe3c81bd5f06310e96cff/GettingStarted-D2L.ipynb)"
   ]
  }
 ],
 "metadata": {
  "kernelspec": {
   "display_name": "default:Python",
   "language": "python",
   "name": "conda-env-default-py"
  },
  "language_info": {
   "codemirror_mode": {
    "name": "ipython",
    "version": 3
   },
   "file_extension": ".py",
   "mimetype": "text/x-python",
   "name": "python",
   "nbconvert_exporter": "python",
   "pygments_lexer": "ipython3",
   "version": "3.9.7"
  }
 },
 "nbformat": 4,
 "nbformat_minor": 5
}
